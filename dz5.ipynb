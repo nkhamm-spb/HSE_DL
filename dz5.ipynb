{
 "cells": [
  {
   "cell_type": "code",
   "execution_count": 1,
   "id": "db9ae679-9562-4e63-96c7-215139705f1a",
   "metadata": {},
   "outputs": [],
   "source": [
    "import torch\n",
    "import torch.nn as nn\n",
    "import torch.optim as optim\n",
    "from torch.utils.data import DataLoader\n",
    "from torchvision import datasets, transforms\n",
    "from torchvision.transforms import ToTensor"
   ]
  },
  {
   "cell_type": "code",
   "execution_count": 2,
   "id": "f454ca5a-a4d2-4eaf-a3c6-6989f49d4788",
   "metadata": {},
   "outputs": [
    {
     "name": "stdout",
     "output_type": "stream",
     "text": [
      "Downloading https://www.cs.toronto.edu/~kriz/cifar-10-python.tar.gz to ./data/cifar-10-python.tar.gz\n"
     ]
    },
    {
     "name": "stderr",
     "output_type": "stream",
     "text": [
      "100%|████████████████████████████████████████| 170M/170M [00:27<00:00, 6.20MB/s]\n"
     ]
    },
    {
     "name": "stdout",
     "output_type": "stream",
     "text": [
      "Extracting ./data/cifar-10-python.tar.gz to ./data\n",
      "Files already downloaded and verified\n"
     ]
    }
   ],
   "source": [
    "# Преобразования для данных\n",
    "transform = transforms.Compose([\n",
    "    transforms.ToTensor(),\n",
    "    transforms.Normalize((0.5, 0.5, 0.5), (0.5, 0.5, 0.5))\n",
    "])\n",
    "\n",
    "# Загрузка данных\n",
    "train_data = datasets.CIFAR10(root='./data', train=True, download=True, transform=transform)\n",
    "test_data = datasets.CIFAR10(root='./data', train=False, download=True, transform=transform)\n",
    "\n",
    "# Создание DataLoader\n",
    "train_loader = DataLoader(train_data, batch_size=32, shuffle=True)\n",
    "test_loader = DataLoader(test_data, batch_size=32, shuffle=False)"
   ]
  },
  {
   "cell_type": "code",
   "execution_count": 51,
   "id": "af4a7e29-4873-43b6-a11b-ef641289c235",
   "metadata": {},
   "outputs": [],
   "source": [
    "import torch.nn.functional as F\n",
    "\n",
    "class MambaBlock(nn.Module):\n",
    "    def __init__(self, d_input, d_model):\n",
    "        super(MambaBlock, self).__init__()\n",
    "        self.in_proj = nn.Linear(d_input, d_model)\n",
    "        self.s_B = nn.Linear(d_model, d_model)\n",
    "        self.s_C = nn.Linear(d_model, d_model)\n",
    "        self.norm = nn.BatchNorm1d(d_model)  # Добавим LayerNorm\n",
    "        self.out_proj = nn.Linear(d_model, d_input)\n",
    "\n",
    "    def forward(self, x):\n",
    "        x = self.in_proj(x)\n",
    "        x = F.relu(x)  # Добавим нелинейность\n",
    "        B, C = self.s_B(x), self.s_C(x)\n",
    "        x = x + B + C\n",
    "        x = self.norm(x)  # Применим нормализацию\n",
    "        return self.out_proj(x)\n",
    "\n",
    "class Mamba(nn.Module):\n",
    "    def __init__(self, num_layers, d_input, d_model):\n",
    "        super(Mamba, self).__init__()\n",
    "        self.layers = nn.ModuleList([MambaBlock(d_input, d_model) for _ in range(num_layers)])\n",
    "        self.final_norm = nn.LayerNorm(d_input)  # Финальная нормализация\n",
    "\n",
    "    def forward(self, seq):\n",
    "        for mamba in self.layers:\n",
    "            seq = mamba(seq)\n",
    "        seq = self.final_norm(seq)  # Применим финальную нормализацию\n",
    "        return seq\n",
    "\n",
    "# Инициализация модели\n",
    "model = Mamba(num_layers=10, d_input=32*32*3, d_model=512)  # Увеличим d_model до 512"
   ]
  },
  {
   "cell_type": "code",
   "execution_count": 52,
   "id": "b7c4f24d-1a86-4226-9a35-95d49c72d370",
   "metadata": {},
   "outputs": [],
   "source": [
    "def evaluate(model, loader):\n",
    "    model.eval()\n",
    "    correct = 0\n",
    "    total_samples = 0\n",
    "\n",
    "    with torch.no_grad():\n",
    "        for data, target in loader:\n",
    "            data = data.view(data.size(0), -1)\n",
    "            output = model(data)\n",
    "            pred = output.argmax(dim=1, keepdim=True)\n",
    "            correct += pred.eq(target.view_as(pred)).sum().item()\n",
    "            total_samples += data.size(0)\n",
    "\n",
    "    accuracy = 100. * correct / total_samples\n",
    "    return accuracy"
   ]
  },
  {
   "cell_type": "code",
   "execution_count": 53,
   "id": "65c4c686-91f5-4cef-90c3-6764710ebfd1",
   "metadata": {},
   "outputs": [
    {
     "name": "stdout",
     "output_type": "stream",
     "text": [
      "[1/3] #100/1563 → L=3.5143\n",
      "[1/3] #200/1563 → L=2.6336\n",
      "[1/3] #300/1563 → L=2.4759\n",
      "[1/3] #400/1563 → L=2.3876\n",
      "[1/3] #500/1563 → L=2.2923\n",
      "[1/3] #600/1563 → L=2.2276\n",
      "[1/3] #700/1563 → L=2.1655\n",
      "[1/3] #800/1563 → L=2.1324\n",
      "[1/3] #900/1563 → L=2.1235\n",
      "[1/3] #1000/1563 → L=2.1049\n",
      "[1/3] #1100/1563 → L=2.0595\n",
      "[1/3] #1200/1563 → L=2.0559\n",
      "[1/3] #1300/1563 → L=2.0758\n",
      "[1/3] #1400/1563 → L=2.0851\n",
      "[1/3] #1500/1563 → L=2.0665\n",
      "[1/3] #1563/1563 → L=2.0526\n",
      "[2/3] #1600/1563 → L=0.7708\n",
      "[2/3] #1700/1563 → L=2.0356\n",
      "[2/3] #1800/1563 → L=2.0391\n",
      "[2/3] #1900/1563 → L=2.0262\n",
      "[2/3] #2000/1563 → L=2.0583\n",
      "[2/3] #2100/1563 → L=2.0236\n",
      "[2/3] #2200/1563 → L=2.0207\n",
      "[2/3] #2300/1563 → L=2.0277\n",
      "[2/3] #2400/1563 → L=2.0001\n",
      "[2/3] #2500/1563 → L=2.0349\n",
      "[2/3] #2600/1563 → L=2.0067\n",
      "[2/3] #2700/1563 → L=2.0085\n",
      "[2/3] #2800/1563 → L=1.9693\n",
      "[2/3] #2900/1563 → L=1.9704\n",
      "[2/3] #3000/1563 → L=1.9512\n",
      "[2/3] #3100/1563 → L=1.9894\n",
      "[2/3] #3126/1563 → L=1.9482\n",
      "[3/3] #3200/1563 → L=1.4460\n",
      "[3/3] #3300/1563 → L=1.9579\n",
      "[3/3] #3400/1563 → L=1.9543\n",
      "[3/3] #3500/1563 → L=1.9482\n",
      "[3/3] #3600/1563 → L=1.9623\n",
      "[3/3] #3700/1563 → L=1.9429\n",
      "[3/3] #3800/1563 → L=1.9192\n",
      "[3/3] #3900/1563 → L=1.9423\n",
      "[3/3] #4000/1563 → L=1.9153\n",
      "[3/3] #4100/1563 → L=1.9410\n",
      "[3/3] #4200/1563 → L=1.9240\n",
      "[3/3] #4300/1563 → L=1.9355\n",
      "[3/3] #4400/1563 → L=1.9267\n",
      "[3/3] #4500/1563 → L=1.9251\n",
      "[3/3] #4600/1563 → L=1.9346\n",
      "[3/3] #4689/1563 → L=1.9272\n"
     ]
    }
   ],
   "source": [
    "loss_fn = torch.nn.CrossEntropyLoss()\n",
    "opt = torch.optim.Adam(model.parameters(), lr=1e-2)\n",
    "step_total = 0\n",
    "epochs = 3\n",
    "losses = []\n",
    "accs = []\n",
    "\n",
    "for e in range(epochs):\n",
    "    model.train()\n",
    "    acc_loss = 0.0\n",
    "    batches = len(train_loader)\n",
    "    for xb, yb in train_loader:\n",
    "        xb = xb.view(xb.size(0), -1)\n",
    "        opt.zero_grad()\n",
    "        loss = loss_fn(model(xb), yb)\n",
    "        loss.backward()\n",
    "        opt.step()\n",
    "\n",
    "        acc_loss += loss.item()\n",
    "        step_total += 1\n",
    "        if step_total % 100 == 0:\n",
    "            print(f\"[{e+1}/{epochs}] #{step_total}/{batches} → L={acc_loss/100:.4f}\")\n",
    "            losses.append(acc_loss/100)\n",
    "            acc_loss = 0.0\n",
    "        if step_total % 300 == 0:\n",
    "            accs.append(evaluate(model, test_loader))\n",
    "            model.train()\n",
    "\n",
    "    # остаток, если батчей не делится на interval\n",
    "    rem = step_total % 100\n",
    "    if rem:\n",
    "        print(f\"[{e+1}/{epochs}] #{step_total}/{batches} → L={acc_loss/rem:.4f}\")"
   ]
  },
  {
   "cell_type": "code",
   "execution_count": 54,
   "id": "88184475-2665-42fe-be11-31a6865a75f6",
   "metadata": {},
   "outputs": [
    {
     "name": "stderr",
     "output_type": "stream",
     "text": [
      "Clipping input data to the valid range for imshow with RGB data ([0..1] for floats or [0..255] for integers).\n"
     ]
    },
    {
     "data": {
      "image/png": "[encoded data removed]",
      "text/plain": [
       "<Figure size 432x288 with 2 Axes>"
      ]
     },
     "metadata": {
      "needs_background": "light"
     },
     "output_type": "display_data"
    }
   ],
   "source": [
    "import matplotlib.pyplot as plt\n",
    "\n",
    "# Функция для захвата активаций\n",
    "def hook_fn(module, input, output):\n",
    "    activations.append(output)\n",
    "\n",
    "# Регистрируем хук для одного из слоев\n",
    "activations = []\n",
    "hook = model.layers[0].register_forward_hook(hook_fn)\n",
    "\n",
    "# Проход через модель\n",
    "model.eval()\n",
    "with torch.no_grad():\n",
    "    for images, _ in test_loader:\n",
    "        images = images.view(images.size(0), -1)\n",
    "        _ = model(images)\n",
    "        break\n",
    "\n",
    "# Визуализация активаций\n",
    "activation = activations[0].mean(dim=0).detach().numpy()\n",
    "plt.imshow(activation.reshape(32, 32, 3))\n",
    "plt.colorbar()\n",
    "plt.show()"
   ]
  },
  {
   "cell_type": "code",
   "execution_count": 56,
   "id": "dc626748-92bb-4850-be7a-038ebe5d3f54",
   "metadata": {},
   "outputs": [
    {
     "data": {
      "image/png": "[encoded data removed]",
      "text/plain": [
       "<Figure size 864x432 with 2 Axes>"
      ]
     },
     "metadata": {
      "needs_background": "light"
     },
     "output_type": "display_data"
    }
   ],
   "source": [
    "# Графики потерь и точности\n",
    "plt.figure(figsize=(12, 6))\n",
    "\n",
    "plt.subplot(1, 2, 1)\n",
    "plt.plot(losses, label='Потери')\n",
    "plt.title('Потери во время обучения')\n",
    "plt.xlabel('Эпоха')\n",
    "plt.ylabel('Потери')\n",
    "plt.legend()\n",
    "\n",
    "plt.subplot(1, 2, 2)\n",
    "plt.plot(accs, label='Точность')\n",
    "plt.title('Точность во время обучения')\n",
    "plt.xlabel('Эпоха')\n",
    "plt.ylabel('Точность')\n",
    "plt.legend()\n",
    "\n",
    "plt.tight_layout()\n",
    "plt.show()"
   ]
  },
  {
   "cell_type": "markdown",
   "id": "d60e2e2c-89b8-40ad-a5d5-bac853318989",
   "metadata": {},
   "source": [
    "Точность вышла не очень хорошей, возможно нужно увеличить количество слоев и в целом параметры модели, матрицу же можно интерпретировать как места на картинке, которые оказывают наибольшее влияние на результат."
   ]
  },
  {
   "cell_type": "code",
   "execution_count": null,
   "id": "fdf1a7a5-f6a5-4a31-bd78-489b978fa2c4",
   "metadata": {},
   "outputs": [],
   "source": []
  }
 ],
 "metadata": {
  "kernelspec": {
   "display_name": "Python 3 (ipykernel)",
   "language": "python",
   "name": "python3"
  },
  "language_info": {
   "codemirror_mode": {
    "name": "ipython",
    "version": 3
   },
   "file_extension": ".py",
   "mimetype": "text/x-python",
   "name": "python",
   "nbconvert_exporter": "python",
   "pygments_lexer": "ipython3",
   "version": "3.10.12"
  }
 },
 "nbformat": 4,
 "nbformat_minor": 5
}
